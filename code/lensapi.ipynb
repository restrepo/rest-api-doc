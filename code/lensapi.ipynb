{
  "nbformat": 4,
  "nbformat_minor": 0,
  "metadata": {
    "colab": {
      "name": "lens.ipynb",
      "provenance": [],
      "include_colab_link": true
    },
    "kernelspec": {
      "display_name": "Python 3",
      "language": "python",
      "name": "python3"
    },
    "language_info": {
      "codemirror_mode": {
        "name": "ipython",
        "version": 3
      },
      "file_extension": ".py",
      "mimetype": "text/x-python",
      "name": "python",
      "nbconvert_exporter": "python",
      "pygments_lexer": "ipython3",
      "version": "3.5.3"
    },
    "latex_envs": {
      "LaTeX_envs_menu_present": true,
      "autoclose": false,
      "autocomplete": true,
      "bibliofile": "biblio.bib",
      "cite_by": "apalike",
      "current_citInitial": 1,
      "eqLabelWithNumbers": true,
      "eqNumInitial": 1,
      "hotkeys": {
        "equation": "Ctrl-E",
        "itemize": "Ctrl-I"
      },
      "labels_anchors": false,
      "latex_user_defs": false,
      "report_style_numbering": false,
      "user_envs_cfg": false
    }
  },
  "cells": [
    {
      "cell_type": "markdown",
      "metadata": {
        "id": "view-in-github",
        "colab_type": "text"
      },
      "source": [
        "<a href=\"https://colab.research.google.com/github/restrepo/rest-api-doc/blob/master/code/lensapi.ipynb\" target=\"_parent\"><img src=\"https://colab.research.google.com/assets/colab-badge.svg\" alt=\"Open In Colab\"/></a>"
      ]
    },
    {
      "cell_type": "markdown",
      "metadata": {
        "colab_type": "text",
        "id": "D_lKr3Avj0Ag"
      },
      "source": [
        "# Lens API search for institution and range of years or dates"
      ]
    },
    {
      "cell_type": "markdown",
      "metadata": {
        "colab_type": "text",
        "id": "fyrZq73Yj0Ak"
      },
      "source": [
        "## Functions and global variables"
      ]
    },
    {
      "cell_type": "markdown",
      "metadata": {
        "colab_type": "text",
        "id": "T4Rt_kx7j0Al"
      },
      "source": [
        "TODO:\n",
        "Orcid search: https://www.lens.org/lens/scholar/search/results?q=&orcids=0000-0001-6455-5564"
      ]
    },
    {
      "cell_type": "code",
      "metadata": {
        "colab_type": "code",
        "id": "Rw3EV881j0Am",
        "outputId": "5eb7399d-c4e2-4d2b-e955-5ef7331e8840",
        "colab": {
          "base_uri": "https://localhost:8080/",
          "height": 103
        }
      },
      "source": [
        "import getpass\n",
        "import pandas as pd\n",
        "import requests\n",
        "import sys\n",
        "import time\n",
        "import os\n",
        "if os.getcwd()=='/content':\n",
        "    !pip install unidecode\n",
        "import unidecode    "
      ],
      "execution_count": 1,
      "outputs": [
        {
          "output_type": "stream",
          "text": [
            "Collecting unidecode\n",
            "\u001b[?25l  Downloading https://files.pythonhosted.org/packages/d0/42/d9edfed04228bacea2d824904cae367ee9efd05e6cce7ceaaedd0b0ad964/Unidecode-1.1.1-py2.py3-none-any.whl (238kB)\n",
            "\r\u001b[K     |█▍                              | 10kB 16.5MB/s eta 0:00:01\r\u001b[K     |██▊                             | 20kB 1.8MB/s eta 0:00:01\r\u001b[K     |████▏                           | 30kB 2.6MB/s eta 0:00:01\r\u001b[K     |█████▌                          | 40kB 1.7MB/s eta 0:00:01\r\u001b[K     |██████▉                         | 51kB 2.2MB/s eta 0:00:01\r\u001b[K     |████████▎                       | 61kB 2.6MB/s eta 0:00:01\r\u001b[K     |█████████▋                      | 71kB 3.0MB/s eta 0:00:01\r\u001b[K     |███████████                     | 81kB 3.4MB/s eta 0:00:01\r\u001b[K     |████████████▍                   | 92kB 3.8MB/s eta 0:00:01\r\u001b[K     |█████████████▊                  | 102kB 2.9MB/s eta 0:00:01\r\u001b[K     |███████████████▏                | 112kB 2.9MB/s eta 0:00:01\r\u001b[K     |████████████████▌               | 122kB 2.9MB/s eta 0:00:01\r\u001b[K     |█████████████████▉              | 133kB 2.9MB/s eta 0:00:01\r\u001b[K     |███████████████████▎            | 143kB 2.9MB/s eta 0:00:01\r\u001b[K     |████████████████████▋           | 153kB 2.9MB/s eta 0:00:01\r\u001b[K     |██████████████████████          | 163kB 2.9MB/s eta 0:00:01\r\u001b[K     |███████████████████████▍        | 174kB 2.9MB/s eta 0:00:01\r\u001b[K     |████████████████████████▊       | 184kB 2.9MB/s eta 0:00:01\r\u001b[K     |██████████████████████████▏     | 194kB 2.9MB/s eta 0:00:01\r\u001b[K     |███████████████████████████▌    | 204kB 2.9MB/s eta 0:00:01\r\u001b[K     |████████████████████████████▉   | 215kB 2.9MB/s eta 0:00:01\r\u001b[K     |██████████████████████████████▎ | 225kB 2.9MB/s eta 0:00:01\r\u001b[K     |███████████████████████████████▋| 235kB 2.9MB/s eta 0:00:01\r\u001b[K     |████████████████████████████████| 245kB 2.9MB/s \n",
            "\u001b[?25hInstalling collected packages: unidecode\n",
            "Successfully installed unidecode-1.1.1\n"
          ],
          "name": "stdout"
        }
      ]
    },
    {
      "cell_type": "markdown",
      "metadata": {
        "colab_type": "text",
        "id": "TFUR-R4pj0Ap"
      },
      "source": [
        "<!-- #mmkP9Ibp7bDpLNLKZF8bdYDxCQmxXhFuJzJViVKH92kyBlGmatE2\n",
        " -->"
      ]
    },
    {
      "cell_type": "code",
      "metadata": {
        "colab_type": "code",
        "id": "Nl8_4Hyoj0Aq",
        "outputId": "fede12fd-4645-4fe0-e263-602d4b1c8ed9",
        "colab": {
          "base_uri": "https://localhost:8080/",
          "height": 34
        }
      },
      "source": [
        "token=getpass.getpass('token:')"
      ],
      "execution_count": 2,
      "outputs": [
        {
          "output_type": "stream",
          "text": [
            "token:··········\n"
          ],
          "name": "stdout"
        }
      ]
    },
    {
      "cell_type": "code",
      "metadata": {
        "colab_type": "code",
        "id": "TwCrMmcRj0Au",
        "colab": {}
      },
      "source": [
        "url = 'https://api.lens.org/scholarly/search'\n",
        "size=1000"
      ],
      "execution_count": 0,
      "outputs": []
    },
    {
      "cell_type": "code",
      "metadata": {
        "colab_type": "code",
        "id": "vG_EKs5tj0Ay",
        "colab": {}
      },
      "source": [
        "def query(affiliation=\"University of Antioquia\",range_type=\"date_published\",\n",
        "          date_ini=\"2003-01-01\",\n",
        "          date_end=\"2004-12-31\",size=1000):\n",
        "    if range_type==\"year_published\":\n",
        "        date_ini=date_ini.split('-')[0]\n",
        "        date_end=date_end.split('-')[0]\n",
        "    data='''{\n",
        "    \"query\": {\n",
        "       \"bool\": {\n",
        "         \"must\": [{\n",
        "           \"match_phrase\":{\n",
        "                    \"title\": \"%s\"\n",
        "               }\n",
        "           },\n",
        "           {\n",
        "           \"range\": {\n",
        "           \"%s\": {\n",
        "                    \"gte\": \"%s\",\n",
        "                    \"lte\": \"%s\"\n",
        "                }\n",
        "           } \n",
        "           }\n",
        "         ]\n",
        "       }\n",
        "     },\n",
        "     \"size\": %i\n",
        "    }''' %(affiliation,range_type,date_ini,date_end,size)\n",
        "    return data\n",
        "def query_title(title=\"Dark Matter\",range_type=\"date_published\",\n",
        "          date_ini=\"2003-01-01\",\n",
        "          date_end=\"2004-12-31\",size=1000):\n",
        "    \"\"\"\n",
        "    WARNING: Accents needs to be removed!\n",
        "    \"\"\"\n",
        "    title=unidecode.unidecode(title)\n",
        "    if range_type==\"year_published\":\n",
        "        date_ini=date_ini.split('-')[0]\n",
        "        date_end=date_end.split('-')[0]\n",
        "    data='''{\n",
        "    \"query\": {\n",
        "       \"bool\": {\n",
        "         \"must\": [{\n",
        "           \"match_phrase\":{\n",
        "                    \"title\": \"%s\"\n",
        "               }\n",
        "           },\n",
        "           {\n",
        "           \"range\": {\n",
        "           \"%s\": {\n",
        "                    \"gte\": \"%s\",\n",
        "                    \"lte\": \"%s\"\n",
        "                }\n",
        "           } \n",
        "           }\n",
        "         ]\n",
        "       }\n",
        "     },\n",
        "     \"size\": %i\n",
        "    }''' %(title,range_type,date_ini,date_end,size)\n",
        "    return data"
      ],
      "execution_count": 0,
      "outputs": []
    },
    {
      "cell_type": "markdown",
      "metadata": {
        "colab_type": "text",
        "id": "moXfc414j0BM"
      },
      "source": [
        "## Full search: University of Antioquia\n",
        "Maximum number of responses currently is `size=1000` by web is 50000. However the JSON output for the API seem to be more complete: Includes list of citations! no only the number"
      ]
    },
    {
      "cell_type": "code",
      "metadata": {
        "colab_type": "code",
        "id": "aqlXzSCZj0BN",
        "colab": {}
      },
      "source": [
        "def get_query(token,data,url='https://api.lens.org/scholarly/search',size=1000):\n",
        "    headers = {'Authorization': '{}'.format(token), 'Content-Type': 'application/json'}\n",
        "    response = requests.post(url, data=data, headers=headers)\n",
        "    if response.status_code != requests.codes.ok:\n",
        "        sys.exit(response.status_code)\n",
        "    else:\n",
        "        return response.text    "
      ],
      "execution_count": 0,
      "outputs": []
    },
    {
      "cell_type": "code",
      "metadata": {
        "colab_type": "code",
        "id": "yHUIL4RNj0BS",
        "colab": {}
      },
      "source": [
        "year_ranges=[[\"1900\",\"1994\"],[\"1995\",\"2000\"],[\"2001\",\"2003\"]   ]"
      ],
      "execution_count": 0,
      "outputs": []
    },
    {
      "cell_type": "code",
      "metadata": {
        "colab_type": "code",
        "id": "OP3puxdLj0BU",
        "outputId": "3db7862d-414d-4689-e96f-f2a089f48ca7",
        "colab": {
          "base_uri": "https://localhost:8080/",
          "height": 120
        }
      },
      "source": [
        "udea=pd.DataFrame()\n",
        "for i in range(len(year_ranges)):\n",
        "    print(year_ranges[i])\n",
        "    data=query(affiliation=\"University of Antioquia\",range_type=\"year_published\",\n",
        "      date_ini=year_ranges[i][0],date_end=year_ranges[i][1],size=1000)\n",
        "    r=get_query(token,data)\n",
        "    print(\"query:\",pd.read_json(r).shape[0] )\n",
        "    udea=udea.append( pd.read_json(r),sort=True  ).reset_index(drop=True)\n",
        "    tmp=udea.copy()\n",
        "    time.sleep(2)"
      ],
      "execution_count": 14,
      "outputs": [
        {
          "output_type": "stream",
          "text": [
            "['1900', '1994']\n",
            "query: 7\n",
            "['1995', '2000']\n",
            "query: 2\n",
            "['2001', '2003']\n",
            "query: 1\n"
          ],
          "name": "stdout"
        }
      ]
    },
    {
      "cell_type": "code",
      "metadata": {
        "colab_type": "code",
        "id": "8LesJKD1j0BX",
        "colab": {}
      },
      "source": [
        "date_ranges=[[\"2004-01-01\",\"2005-11-30\"],[\"2005-12-01\",\"2006-12-31\"],[\"2007-01-01\",\"2007-12-31\"],\n",
        "             [\"2008-01-01\",\"2008-10-31\"],[\"2008-11-01\",\"2009-05-31\"],['2009-06-01','2009-12-31'],\n",
        "             ['2010-07-01', '2010-12-31'],['2011-01-01', '2011-05-31'],['2011-06-01', '2011-12-31'],\n",
        "             ['2012-01-01', '2012-05-31'],['2012-06-01', '2012-11-30'],['2012-12-01', '2013-03-31'],\n",
        "             ['2013-04-01', '2013-10-31'],['2013-11-01', '2014-02-28'],['2014-03-01', '2014-10-31'],\n",
        "             ['2014-11-01', '2015-02-28'],['2015-03-01', '2015-10-31'],['2015-11-01', '2016-03-31'],\n",
        "             ['2016-04-01', '2016-09-30'],['2016-10-01', '2016-12-31'],['2017-01-01', '2017-06-30'],\n",
        "             ['2017-07-01', '2017-12-31'],['2018-01-01', '2018-08-31'],['2018-09-01', '2019-06-30']\n",
        "            ]"
      ],
      "execution_count": 0,
      "outputs": []
    },
    {
      "cell_type": "code",
      "metadata": {
        "colab_type": "code",
        "id": "VhzeBRPDj0Bc",
        "colab": {}
      },
      "source": [
        "FIND_DATES=False\n",
        "if FIND_DATES:\n",
        "    m=[\"\",\"01-31\",\"02-28\",\"03-31\",\"04-30\",\"05-31\",\"06-30\",\"07-31\",\"08-31\",\"09-30\",\"10-31\",\"11-30\",\"12-31\"]\n",
        "    dr=date_ranges[0][1].split('-')\n",
        "\n",
        "    year=\"2019-\"\n",
        "    month=6\n",
        "    if int(dr[1])<12:\n",
        "        date_ranges=[[dr[0]+'-'+m[int(dr[1])+1].split('-')[0]+'-'+'01',year+m[month]]]\n",
        "    else:\n",
        "        date_ranges=[[str(int(dr[0])+1)+'-'+'01'+'-'+'01',year+m[month]]]\n",
        "    print( date_ranges )"
      ],
      "execution_count": 0,
      "outputs": []
    },
    {
      "cell_type": "code",
      "metadata": {
        "id": "LelhGVCRDkhi",
        "colab_type": "code",
        "colab": {}
      },
      "source": [
        "1+1"
      ],
      "execution_count": 0,
      "outputs": []
    },
    {
      "cell_type": "code",
      "metadata": {
        "id": "KDpSIDSYDUaX",
        "colab_type": "code",
        "colab": {}
      },
      "source": [
        "data=query(affiliation=\"University of Antioquia\",range_type=\"date_published\",\n",
        "      date_ini='2018-01-01',date_end='2018-08-31',size=1000)\n",
        "r=get_query(token,data)"
      ],
      "execution_count": 0,
      "outputs": []
    },
    {
      "cell_type": "code",
      "metadata": {
        "colab_type": "code",
        "id": "Fbex4g0aj0Be",
        "outputId": "c17ab0f4-b2bd-4361-f70d-c391d3478725",
        "colab": {
          "base_uri": "https://localhost:8080/",
          "height": 974
        }
      },
      "source": [
        "#WARNING: Failed after some i-th request: fix initial range to continue\n",
        "for i in range(0,len(date_ranges)):\n",
        "    print(date_ranges[i])\n",
        "    data=query(affiliation=\"University of Antioquia\",range_type=\"date_published\",\n",
        "      date_ini=date_ranges[i][0],date_end=date_ranges[i][1],size=1000)\n",
        "    r=get_query(token,data)\n",
        "    kk=pd.read_json(r)\n",
        "    print(\"query:\",i,kk.shape[0] )\n",
        "    if FIND_DATES:\n",
        "        if kk.shape[0]>=1000 and month>1:\n",
        "            month=month-1\n",
        "            date_ranges=[[date_ranges[0][0],year+m[month]]]\n",
        "        \n",
        "    udea=udea.append( kk , sort=True ).reset_index(drop=True)\n",
        "    tmp=udea.copy()\n",
        "\n",
        "    time.sleep(5)"
      ],
      "execution_count": 11,
      "outputs": [
        {
          "output_type": "stream",
          "text": [
            "['2004-01-01', '2005-11-30']\n",
            "query: 0 1\n",
            "['2005-12-01', '2006-12-31']\n",
            "query: 1 4\n",
            "['2007-01-01', '2007-12-31']\n",
            "query: 2 5\n",
            "['2008-01-01', '2008-10-31']\n",
            "query: 3 1\n",
            "['2008-11-01', '2009-05-31']\n",
            "query: 4 5\n",
            "['2009-06-01', '2009-12-31']\n",
            "query: 5 3\n",
            "['2010-07-01', '2010-12-31']\n",
            "query: 6 5\n",
            "['2011-01-01', '2011-05-31']\n",
            "query: 7 1\n",
            "['2011-06-01', '2011-12-31']\n",
            "query: 8 2\n",
            "['2012-01-01', '2012-05-31']\n",
            "query: 9 1\n",
            "['2012-06-01', '2012-11-30']\n",
            "query: 10 2\n",
            "['2012-12-01', '2013-03-31']\n",
            "query: 11 3\n",
            "['2013-04-01', '2013-10-31']\n",
            "query: 12 0\n"
          ],
          "name": "stdout"
        },
        {
          "output_type": "stream",
          "text": [
            "/usr/local/lib/python3.6/dist-packages/pandas/core/frame.py:7138: FutureWarning: Sorting because non-concatenation axis is not aligned. A future version\n",
            "of pandas will change to not sort by default.\n",
            "\n",
            "To accept the future behavior, pass 'sort=False'.\n",
            "\n",
            "To retain the current behavior and silence the warning, pass 'sort=True'.\n",
            "\n",
            "  sort=sort,\n"
          ],
          "name": "stderr"
        },
        {
          "output_type": "stream",
          "text": [
            "['2013-11-01', '2014-02-28']\n",
            "query: 13 3\n",
            "['2014-03-01', '2014-10-31']\n",
            "query: 14 0\n",
            "['2014-11-01', '2015-02-28']\n",
            "query: 15 3\n",
            "['2015-03-01', '2015-10-31']\n",
            "query: 16 4\n",
            "['2015-11-01', '2016-03-31']\n",
            "query: 17 1\n",
            "['2016-04-01', '2016-09-30']\n",
            "query: 18 1\n",
            "['2016-10-01', '2016-12-31']\n",
            "query: 19 0\n",
            "['2017-01-01', '2017-06-30']\n",
            "query: 20 6\n",
            "['2017-07-01', '2017-12-31']\n",
            "query: 21 2\n",
            "['2018-01-01', '2018-08-31']\n",
            "query: 22 2\n",
            "['2018-09-01', '2019-06-30']\n",
            "query: 23 0\n"
          ],
          "name": "stdout"
        }
      ]
    },
    {
      "cell_type": "code",
      "metadata": {
        "colab_type": "code",
        "id": "aE9AgET5j0Bg",
        "colab": {}
      },
      "source": [
        "udea=pd.DataFrame( list( udea.data.values ) ).reset_index(drop=True)"
      ],
      "execution_count": 0,
      "outputs": []
    },
    {
      "cell_type": "code",
      "metadata": {
        "colab_type": "code",
        "id": "OrD67YO5j0Bi",
        "outputId": "b1453625-cb49-404c-b722-961516180890",
        "colab": {
          "base_uri": "https://localhost:8080/",
          "height": 34
        }
      },
      "source": [
        "udea.shape"
      ],
      "execution_count": 13,
      "outputs": [
        {
          "output_type": "execute_result",
          "data": {
            "text/plain": [
              "(65, 28)"
            ]
          },
          "metadata": {
            "tags": []
          },
          "execution_count": 13
        }
      ]
    },
    {
      "cell_type": "code",
      "metadata": {
        "colab_type": "code",
        "id": "v4Ve3oPYj0Bj",
        "colab": {}
      },
      "source": [
        "udea.to_json('data/udea.json.gz',compression='gzip')"
      ],
      "execution_count": 0,
      "outputs": []
    },
    {
      "cell_type": "markdown",
      "metadata": {
        "colab_type": "text",
        "id": "YlSjAp7ej0Bl"
      },
      "source": [
        "## Analysis"
      ]
    },
    {
      "cell_type": "code",
      "metadata": {
        "colab_type": "code",
        "id": "W9KMHUa7j0Bm",
        "outputId": "b226044c-d296-47e3-f73f-69bdd8174ada",
        "colab": {
          "base_uri": "https://localhost:8080/",
          "height": 35
        }
      },
      "source": [
        "%pylab inline"
      ],
      "execution_count": 0,
      "outputs": [
        {
          "output_type": "stream",
          "text": [
            "Populating the interactive namespace from numpy and matplotlib\n"
          ],
          "name": "stdout"
        }
      ]
    },
    {
      "cell_type": "code",
      "metadata": {
        "colab_type": "code",
        "id": "g3SlZp7bj0Bo",
        "colab": {}
      },
      "source": [
        "import pandas as pd"
      ],
      "execution_count": 0,
      "outputs": []
    },
    {
      "cell_type": "code",
      "metadata": {
        "colab_type": "code",
        "id": "iyzMs6BXj0Bq",
        "outputId": "de1fbbe7-ed6e-4b58-ac57-faed0933e343",
        "colab": {}
      },
      "source": [
        "ls data/"
      ],
      "execution_count": 0,
      "outputs": [
        {
          "output_type": "stream",
          "text": [
            "lens_udea_lines_True_orient_records.json.gz  udea.json.gz\r\n"
          ],
          "name": "stdout"
        }
      ]
    },
    {
      "cell_type": "code",
      "metadata": {
        "colab_type": "code",
        "id": "D10s9_5Lj0Bs",
        "colab": {}
      },
      "source": [
        "udea=pd.read_json( 'https://github.com/restrepo/lensapi/raw/master/data/udea.json.gz',compression='gzip')#.reset_index(drop=True) )"
      ],
      "execution_count": 0,
      "outputs": []
    },
    {
      "cell_type": "code",
      "metadata": {
        "colab_type": "code",
        "id": "id4qduLVj0Bu",
        "colab": {}
      },
      "source": [
        "#udea=pd.read_json('data/lens_udea_lines_True_orient_records.json.gz',lines=True,orient='records',compression='gzip')#.reset_index(drop=True)"
      ],
      "execution_count": 0,
      "outputs": []
    },
    {
      "cell_type": "code",
      "metadata": {
        "colab_type": "code",
        "id": "gIYvyYmLj0Bw",
        "outputId": "00598ea8-bfa6-41a1-c657-8b9460a14c99",
        "colab": {
          "base_uri": "https://localhost:8080/",
          "height": 35
        }
      },
      "source": [
        "udea.shape"
      ],
      "execution_count": 0,
      "outputs": [
        {
          "output_type": "execute_result",
          "data": {
            "text/plain": [
              "(23830, 32)"
            ]
          },
          "metadata": {
            "tags": []
          },
          "execution_count": 4
        }
      ]
    },
    {
      "cell_type": "code",
      "metadata": {
        "id": "LgCBtgFPdSv0",
        "colab_type": "code",
        "outputId": "bd4b4782-5a26-4a54-9607-caf65b7c7ab9",
        "colab": {
          "base_uri": "https://localhost:8080/",
          "height": 318
        }
      },
      "source": [
        "udea[:2]"
      ],
      "execution_count": 0,
      "outputs": [
        {
          "output_type": "execute_result",
          "data": {
            "text/html": [
              "<div>\n",
              "<style scoped>\n",
              "    .dataframe tbody tr th:only-of-type {\n",
              "        vertical-align: middle;\n",
              "    }\n",
              "\n",
              "    .dataframe tbody tr th {\n",
              "        vertical-align: top;\n",
              "    }\n",
              "\n",
              "    .dataframe thead th {\n",
              "        text-align: right;\n",
              "    }\n",
              "</style>\n",
              "<table border=\"1\" class=\"dataframe\">\n",
              "  <thead>\n",
              "    <tr style=\"text-align: right;\">\n",
              "      <th></th>\n",
              "      <th>abstract</th>\n",
              "      <th>author_count</th>\n",
              "      <th>authors</th>\n",
              "      <th>chemicals</th>\n",
              "      <th>clinical_trials</th>\n",
              "      <th>conference</th>\n",
              "      <th>created</th>\n",
              "      <th>date_published</th>\n",
              "      <th>end_page</th>\n",
              "      <th>external_ids</th>\n",
              "      <th>fields_of_study</th>\n",
              "      <th>funding</th>\n",
              "      <th>issue</th>\n",
              "      <th>keywords</th>\n",
              "      <th>languages</th>\n",
              "      <th>lens_id</th>\n",
              "      <th>mesh_terms</th>\n",
              "      <th>open_access</th>\n",
              "      <th>patent_citations</th>\n",
              "      <th>patent_citations_count</th>\n",
              "      <th>publication_supplementary_type</th>\n",
              "      <th>publication_type</th>\n",
              "      <th>references</th>\n",
              "      <th>references_count</th>\n",
              "      <th>scholarly_citations</th>\n",
              "      <th>scholarly_citations_count</th>\n",
              "      <th>source</th>\n",
              "      <th>source_urls</th>\n",
              "      <th>start_page</th>\n",
              "      <th>title</th>\n",
              "      <th>volume</th>\n",
              "      <th>year_published</th>\n",
              "    </tr>\n",
              "  </thead>\n",
              "  <tbody>\n",
              "    <tr>\n",
              "      <th>0</th>\n",
              "      <td>H a sta h ace unos pocos anos, el carcinoma de...</td>\n",
              "      <td>4</td>\n",
              "      <td>[{'affiliations': [{'name': 'University of Ant...</td>\n",
              "      <td>None</td>\n",
              "      <td>None</td>\n",
              "      <td>None</td>\n",
              "      <td>2018-05-16T03:24:40.711000+00:00</td>\n",
              "      <td>1981-01-01T00:00:00+00:00</td>\n",
              "      <td>140</td>\n",
              "      <td>[{'value': '2286199698', 'type': 'magid'}]</td>\n",
              "      <td>[Art, Performance art]</td>\n",
              "      <td>None</td>\n",
              "      <td>2</td>\n",
              "      <td>None</td>\n",
              "      <td>[es, pt]</td>\n",
              "      <td>000-088-883-415-778</td>\n",
              "      <td>None</td>\n",
              "      <td>None</td>\n",
              "      <td>None</td>\n",
              "      <td>NaN</td>\n",
              "      <td>None</td>\n",
              "      <td>None</td>\n",
              "      <td>None</td>\n",
              "      <td>NaN</td>\n",
              "      <td>None</td>\n",
              "      <td>NaN</td>\n",
              "      <td>None</td>\n",
              "      <td>[{'url': 'https://revista.fecolsog.org/index.p...</td>\n",
              "      <td>136</td>\n",
              "      <td>Ca. De endometrio en pacientes jovenes</td>\n",
              "      <td>32</td>\n",
              "      <td>1981</td>\n",
              "    </tr>\n",
              "    <tr>\n",
              "      <th>1</th>\n",
              "      <td>The chronic financial crisis of the Colombia e...</td>\n",
              "      <td>1</td>\n",
              "      <td>[{'affiliations': [{'name': 'University of Ant...</td>\n",
              "      <td>None</td>\n",
              "      <td>None</td>\n",
              "      <td>None</td>\n",
              "      <td>2018-05-15T16:38:38.283000+00:00</td>\n",
              "      <td>1986-01-01T00:00:00+00:00</td>\n",
              "      <td>96</td>\n",
              "      <td>[{'value': '2088684644', 'type': 'magid'}]</td>\n",
              "      <td>[Finance, Debt, Economy, Labour economics, Eco...</td>\n",
              "      <td>None</td>\n",
              "      <td>19</td>\n",
              "      <td>None</td>\n",
              "      <td>[en, es]</td>\n",
              "      <td>000-171-931-153-424</td>\n",
              "      <td>None</td>\n",
              "      <td>None</td>\n",
              "      <td>None</td>\n",
              "      <td>NaN</td>\n",
              "      <td>None</td>\n",
              "      <td>journal article</td>\n",
              "      <td>None</td>\n",
              "      <td>NaN</td>\n",
              "      <td>[178-901-825-050-525]</td>\n",
              "      <td>1.0</td>\n",
              "      <td>{'title': 'Lecturas de Economía'}</td>\n",
              "      <td>[{'url': 'http://aprendeenlinea.udea.edu.co/re...</td>\n",
              "      <td>33</td>\n",
              "      <td>Incidencia de los problemas financieros en los...</td>\n",
              "      <td>19</td>\n",
              "      <td>1986</td>\n",
              "    </tr>\n",
              "  </tbody>\n",
              "</table>\n",
              "</div>"
            ],
            "text/plain": [
              "                                            abstract  ...  year_published\n",
              "0  H a sta h ace unos pocos anos, el carcinoma de...  ...            1981\n",
              "1  The chronic financial crisis of the Colombia e...  ...            1986\n",
              "\n",
              "[2 rows x 32 columns]"
            ]
          },
          "metadata": {
            "tags": []
          },
          "execution_count": 6
        }
      ]
    },
    {
      "cell_type": "markdown",
      "metadata": {
        "colab_type": "text",
        "id": "-1CuTsL4j0By"
      },
      "source": [
        "### Entries with publication date"
      ]
    },
    {
      "cell_type": "code",
      "metadata": {
        "colab_type": "code",
        "id": "ZYJgNBiCj0Bz",
        "outputId": "594961b6-ba2d-4a8f-bac5-842ba3493208",
        "colab": {
          "base_uri": "https://localhost:8080/",
          "height": 235
        }
      },
      "source": [
        "udea.date_published"
      ],
      "execution_count": 0,
      "outputs": [
        {
          "output_type": "execute_result",
          "data": {
            "text/plain": [
              "0        1981-01-01T00:00:00+00:00\n",
              "1        1986-01-01T00:00:00+00:00\n",
              "2        1987-01-01T00:00:00+00:00\n",
              "3        1986-01-01T00:00:00+00:00\n",
              "4        1992-01-01T00:00:00+00:00\n",
              "                   ...            \n",
              "23825    2019-04-26T00:00:00+00:00\n",
              "23826    2018-12-01T00:00:00+00:00\n",
              "23827    2018-09-20T00:00:00+00:00\n",
              "23828    2018-09-18T00:00:00+00:00\n",
              "23829    2018-12-07T00:00:00+00:00\n",
              "Name: date_published, Length: 23830, dtype: object"
            ]
          },
          "metadata": {
            "tags": []
          },
          "execution_count": 7
        }
      ]
    },
    {
      "cell_type": "code",
      "metadata": {
        "colab_type": "code",
        "id": "MFkDDv0sj0B1",
        "colab": {}
      },
      "source": [
        "udeay=udea[~udea.date_published.isna()]"
      ],
      "execution_count": 0,
      "outputs": []
    },
    {
      "cell_type": "code",
      "metadata": {
        "colab_type": "code",
        "id": "Z8SKbQu6j0B3",
        "colab": {}
      },
      "source": [
        "udeay['Year']=udea.date_published.apply(lambda s: s.split('-')[0] if type(s)==str else \n",
        "                                          s.get('date').split('-')[0] )"
      ],
      "execution_count": 0,
      "outputs": []
    },
    {
      "cell_type": "code",
      "metadata": {
        "colab_type": "code",
        "id": "wtoo_h1ej0B6",
        "colab": {}
      },
      "source": [
        "udeay=udeay[~udeay['Year'].isna()].reset_index(drop=True)\n",
        "udeay['Year']=udeay['Year'].astype(int)"
      ],
      "execution_count": 0,
      "outputs": []
    },
    {
      "cell_type": "code",
      "metadata": {
        "colab_type": "code",
        "id": "NNrTL5B0j0B8",
        "outputId": "b8b6dec2-6dd2-4648-e8c4-4f9d9651636b",
        "colab": {}
      },
      "source": [
        "udeay[udeay['Year']>2007]['Year'].value_counts().sort_index().plot(kind='bar')"
      ],
      "execution_count": 0,
      "outputs": [
        {
          "output_type": "execute_result",
          "data": {
            "text/plain": [
              "<matplotlib.axes._subplots.AxesSubplot at 0x7fc831fc5080>"
            ]
          },
          "metadata": {
            "tags": []
          },
          "execution_count": 20
        },
        {
          "output_type": "display_data",
          "data": {
            "image/png": "[encoded data removed]",
            "text/plain": [
              "<Figure size 432x288 with 1 Axes>"
            ]
          },
          "metadata": {
            "tags": [],
            "needs_background": "light"
          }
        }
      ]
    },
    {
      "cell_type": "code",
      "metadata": {
        "colab_type": "code",
        "id": "_Gc7Iplyj0B-",
        "outputId": "58725c45-560c-492f-f874-14941777ee24",
        "colab": {}
      },
      "source": [
        "udeay.shape"
      ],
      "execution_count": 0,
      "outputs": [
        {
          "output_type": "execute_result",
          "data": {
            "text/plain": [
              "(23544, 34)"
            ]
          },
          "metadata": {
            "tags": []
          },
          "execution_count": 12
        }
      ]
    },
    {
      "cell_type": "code",
      "metadata": {
        "colab_type": "code",
        "id": "UtmESdNlj0CA",
        "colab": {}
      },
      "source": [
        "udeay['doi']=udeay['external_ids'].apply(lambda l:[d.get('value') for d in l if d.get('type')=='doi'] if type(l)==list else None)\n",
        "udeay['doi']=udeay['doi'].apply(lambda l: l[0] if type(l)==list and len(l)>0 else None)"
      ],
      "execution_count": 0,
      "outputs": []
    },
    {
      "cell_type": "code",
      "metadata": {
        "colab_type": "code",
        "id": "rUZKbJR4j0CB",
        "colab": {}
      },
      "source": [
        "udea_doi=udeay[~udeay['doi'].isna()]"
      ],
      "execution_count": 0,
      "outputs": []
    },
    {
      "cell_type": "code",
      "metadata": {
        "colab_type": "code",
        "id": "DTN2anF3j0CD",
        "outputId": "08958946-40ca-47e0-8e53-0966067840b9",
        "colab": {}
      },
      "source": [
        "udea_doi.shape"
      ],
      "execution_count": 0,
      "outputs": [
        {
          "output_type": "execute_result",
          "data": {
            "text/plain": [
              "(7789, 35)"
            ]
          },
          "metadata": {
            "tags": []
          },
          "execution_count": 16
        }
      ]
    },
    {
      "cell_type": "code",
      "metadata": {
        "colab_type": "code",
        "id": "ISOl0XUDj0CG",
        "outputId": "3c870ffd-6b12-487b-b3b1-d20b95c42d73",
        "colab": {}
      },
      "source": [
        "udea_doi[udea_doi['Year']>2007]['Year'].value_counts().sort_index().plot(kind='bar')"
      ],
      "execution_count": 0,
      "outputs": [
        {
          "output_type": "execute_result",
          "data": {
            "text/plain": [
              "<matplotlib.axes._subplots.AxesSubplot at 0x7fc83222c198>"
            ]
          },
          "metadata": {
            "tags": []
          },
          "execution_count": 21
        },
        {
          "output_type": "display_data",
          "data": {
            "image/png": "[encoded data removed]",
            "text/plain": [
              "<Figure size 432x288 with 1 Axes>"
            ]
          },
          "metadata": {
            "tags": [],
            "needs_background": "light"
          }
        }
      ]
    },
    {
      "cell_type": "code",
      "metadata": {
        "colab_type": "code",
        "id": "LlSIap7Ej0CJ",
        "outputId": "16d8e8fa-9167-4d66-9139-96654732f789",
        "colab": {}
      },
      "source": [
        "minyear=2007\n",
        "totx=list( udeay[udeay['Year']>minyear]['Year'].value_counts().sort_index().index )\n",
        "toty=list( udeay[udeay['Year']>minyear]['Year'].value_counts().sort_index().values )\n",
        "doix=list( udea_doi[udea_doi['Year']>minyear]['Year'].value_counts().sort_index().index )\n",
        "doiy=list( udea_doi[udea_doi['Year']>minyear]['Year'].value_counts().sort_index().values )\n",
        "plt.plot(totx,toty,label='TOTAL')\n",
        "plt.plot(totx,toty,'bo')\n",
        "plt.plot(doix,doiy,'r',label='DOI')\n",
        "plt.plot(doix,doiy,'ro')\n",
        "plt.legend(loc='best')\n",
        "plt.xlim(2008,2018.1)\n",
        "plt.title('Producción UDEA')\n",
        "plt.ylabel('Número de artículos cada año',size=15)\n",
        "plt.savefig('totdoi.pdf')"
      ],
      "execution_count": 0,
      "outputs": [
        {
          "output_type": "display_data",
          "data": {
            "image/png": "[encoded data removed]",
            "text/plain": [
              "<Figure size 432x288 with 1 Axes>"
            ]
          },
          "metadata": {
            "tags": [],
            "needs_background": "light"
          }
        }
      ]
    },
    {
      "cell_type": "code",
      "metadata": {
        "colab_type": "code",
        "id": "2kIwBP6pj0CK",
        "outputId": "f34f2c90-6560-430d-b6da-2a67c5e8bfdf",
        "colab": {}
      },
      "source": [
        "ls /scratch/restrepo/HUGE/JSON/"
      ],
      "execution_count": 0,
      "outputs": [
        {
          "output_type": "stream",
          "text": [
            "core_2018-03-01_metadata.tar.gz\r\n",
            "lens_co_lines_True_orient_records.json.gz\r\n",
            "lens_lat_lines_True_orient_records.json.gz\r\n",
            "wget-log\r\n"
          ],
          "name": "stdout"
        }
      ]
    },
    {
      "cell_type": "code",
      "metadata": {
        "colab_type": "code",
        "id": "AspQFy_1j0CM",
        "colab": {}
      },
      "source": [
        ""
      ],
      "execution_count": 0,
      "outputs": []
    }
  ]
}